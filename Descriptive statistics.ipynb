{
 "cells": [
  {
   "cell_type": "markdown",
   "metadata": {},
   "source": [
    "# Descriptive Statistics"
   ]
  },
  {
   "cell_type": "code",
   "execution_count": 4,
   "metadata": {},
   "outputs": [],
   "source": [
    "import pandas as pd\n",
    "df = pd.read_csv('test.csv')"
   ]
  },
  {
   "cell_type": "markdown",
   "metadata": {},
   "source": [
    "## SUM"
   ]
  },
  {
   "cell_type": "code",
   "execution_count": 10,
   "metadata": {},
   "outputs": [
    {
     "name": "stdout",
     "output_type": "stream",
     "text": [
      "10234.080000000002\n"
     ]
    }
   ],
   "source": [
    "print (df['Voltage (v)'].sum())"
   ]
  },
  {
   "cell_type": "code",
   "execution_count": 11,
   "metadata": {},
   "outputs": [
    {
     "name": "stdout",
     "output_type": "stream",
     "text": [
      "RecordDateTime           8/28/2018 12:01:21 AM8/28/2018 12:16:20 AM8/28...\n",
      "Voltage (v)                                                        10234.1\n",
      "Signal Strength (dBm)                                                -5837\n",
      "Battery Charge (V)                                                 351.968\n",
      "dtype: object\n"
     ]
    }
   ],
   "source": [
    "print (df.sum())"
   ]
  },
  {
   "cell_type": "markdown",
   "metadata": {},
   "source": [
    "## Mean"
   ]
  },
  {
   "cell_type": "code",
   "execution_count": 12,
   "metadata": {},
   "outputs": [
    {
     "data": {
      "text/plain": [
       "Voltage (v)              117.633103\n",
       "Signal Strength (dBm)    -67.091954\n",
       "Battery Charge (V)         4.045606\n",
       "dtype: float64"
      ]
     },
     "execution_count": 12,
     "metadata": {},
     "output_type": "execute_result"
    }
   ],
   "source": [
    "df.mean()"
   ]
  },
  {
   "cell_type": "code",
   "execution_count": 13,
   "metadata": {},
   "outputs": [
    {
     "data": {
      "text/plain": [
       "-67.0919540229885"
      ]
     },
     "execution_count": 13,
     "metadata": {},
     "output_type": "execute_result"
    }
   ],
   "source": [
    "df['Signal Strength (dBm)'].mean()"
   ]
  },
  {
   "cell_type": "markdown",
   "metadata": {},
   "source": [
    "## std"
   ]
  },
  {
   "cell_type": "code",
   "execution_count": 14,
   "metadata": {},
   "outputs": [
    {
     "data": {
      "text/plain": [
       "Voltage (v)              125.340096\n",
       "Signal Strength (dBm)      2.604255\n",
       "Battery Charge (V)         0.180580\n",
       "dtype: float64"
      ]
     },
     "execution_count": 14,
     "metadata": {},
     "output_type": "execute_result"
    }
   ],
   "source": [
    "df.std()"
   ]
  },
  {
   "cell_type": "code",
   "execution_count": 15,
   "metadata": {},
   "outputs": [
    {
     "data": {
      "text/plain": [
       "0.18058029357174937"
      ]
     },
     "execution_count": 15,
     "metadata": {},
     "output_type": "execute_result"
    }
   ],
   "source": [
    "df['Battery Charge (V)'].std()"
   ]
  },
  {
   "cell_type": "markdown",
   "metadata": {},
   "source": [
    "## count"
   ]
  },
  {
   "cell_type": "code",
   "execution_count": 16,
   "metadata": {},
   "outputs": [
    {
     "data": {
      "text/plain": [
       "RecordDateTime           87\n",
       "Voltage (v)              87\n",
       "Signal Strength (dBm)    87\n",
       "Battery Charge (V)       87\n",
       "dtype: int64"
      ]
     },
     "execution_count": 16,
     "metadata": {},
     "output_type": "execute_result"
    }
   ],
   "source": [
    "df.count()"
   ]
  },
  {
   "cell_type": "markdown",
   "metadata": {},
   "source": [
    "## median"
   ]
  },
  {
   "cell_type": "code",
   "execution_count": 17,
   "metadata": {},
   "outputs": [
    {
     "data": {
      "text/plain": [
       "Voltage (v)               0.000000\n",
       "Signal Strength (dBm)   -67.000000\n",
       "Battery Charge (V)        4.135484\n",
       "dtype: float64"
      ]
     },
     "execution_count": 17,
     "metadata": {},
     "output_type": "execute_result"
    }
   ],
   "source": [
    "df.median()"
   ]
  },
  {
   "cell_type": "markdown",
   "metadata": {},
   "source": [
    "## mode"
   ]
  },
  {
   "cell_type": "markdown",
   "metadata": {},
   "source": [
    "### Mode (statistics) The mode of a set of data values is the value that appears most often. It is the value x at which its probability mass function takes its maximum value. In other words, it is the value that is most likely to be sampled."
   ]
  },
  {
   "cell_type": "code",
   "execution_count": 19,
   "metadata": {},
   "outputs": [],
   "source": [
    "df.mode();"
   ]
  },
  {
   "cell_type": "markdown",
   "metadata": {},
   "source": [
    "## max, min, abs"
   ]
  },
  {
   "cell_type": "code",
   "execution_count": 20,
   "metadata": {},
   "outputs": [
    {
     "data": {
      "text/plain": [
       "RecordDateTime           8/28/2018 9:46:20 AM\n",
       "Voltage (v)                            253.26\n",
       "Signal Strength (dBm)                     -61\n",
       "Battery Charge (V)                    4.23226\n",
       "dtype: object"
      ]
     },
     "execution_count": 20,
     "metadata": {},
     "output_type": "execute_result"
    }
   ],
   "source": [
    "df.max()"
   ]
  },
  {
   "cell_type": "code",
   "execution_count": 21,
   "metadata": {},
   "outputs": [
    {
     "data": {
      "text/plain": [
       "RecordDateTime           8/28/2018 10:01:21 AM\n",
       "Voltage (v)                                  0\n",
       "Signal Strength (dBm)                      -79\n",
       "Battery Charge (V)                     3.73548\n",
       "dtype: object"
      ]
     },
     "execution_count": 21,
     "metadata": {},
     "output_type": "execute_result"
    }
   ],
   "source": [
    "df.min()"
   ]
  },
  {
   "cell_type": "code",
   "execution_count": 24,
   "metadata": {},
   "outputs": [
    {
     "data": {
      "text/plain": [
       "0    65\n",
       "1    65\n",
       "2    65\n",
       "3    65\n",
       "4    65\n",
       "5    65\n",
       "6    65\n",
       "7    65\n",
       "8    65\n",
       "9    65\n",
       "Name: Signal Strength (dBm), dtype: int64"
      ]
     },
     "execution_count": 24,
     "metadata": {},
     "output_type": "execute_result"
    }
   ],
   "source": [
    "df['Signal Strength (dBm)'].abs().head(10)"
   ]
  },
  {
   "cell_type": "markdown",
   "metadata": {},
   "source": [
    "## prod"
   ]
  },
  {
   "cell_type": "markdown",
   "metadata": {},
   "source": [
    "### product of the value"
   ]
  },
  {
   "cell_type": "code",
   "execution_count": 25,
   "metadata": {},
   "outputs": [
    {
     "data": {
      "text/plain": [
       "Voltage (v)               0.000000e+00\n",
       "Signal Strength (dBm)   -7.814241e+158\n",
       "Battery Charge (V)        5.885086e+52\n",
       "dtype: float64"
      ]
     },
     "execution_count": 25,
     "metadata": {},
     "output_type": "execute_result"
    }
   ],
   "source": [
    "df.prod()"
   ]
  },
  {
   "cell_type": "markdown",
   "metadata": {},
   "source": [
    "## cumulative sum(works on string) and prod(doesn't work on string)"
   ]
  },
  {
   "cell_type": "code",
   "execution_count": 26,
   "metadata": {},
   "outputs": [
    {
     "data": {
      "text/html": [
       "<div>\n",
       "<style scoped>\n",
       "    .dataframe tbody tr th:only-of-type {\n",
       "        vertical-align: middle;\n",
       "    }\n",
       "\n",
       "    .dataframe tbody tr th {\n",
       "        vertical-align: top;\n",
       "    }\n",
       "\n",
       "    .dataframe thead th {\n",
       "        text-align: right;\n",
       "    }\n",
       "</style>\n",
       "<table border=\"1\" class=\"dataframe\">\n",
       "  <thead>\n",
       "    <tr style=\"text-align: right;\">\n",
       "      <th></th>\n",
       "      <th>RecordDateTime</th>\n",
       "      <th>Voltage (v)</th>\n",
       "      <th>Signal Strength (dBm)</th>\n",
       "      <th>Battery Charge (V)</th>\n",
       "    </tr>\n",
       "  </thead>\n",
       "  <tbody>\n",
       "    <tr>\n",
       "      <th>0</th>\n",
       "      <td>8/28/2018 12:01:21 AM</td>\n",
       "      <td>251.78</td>\n",
       "      <td>-65</td>\n",
       "      <td>4.2</td>\n",
       "    </tr>\n",
       "    <tr>\n",
       "      <th>1</th>\n",
       "      <td>8/28/2018 12:01:21 AM8/28/2018 12:16:20 AM</td>\n",
       "      <td>504</td>\n",
       "      <td>-130</td>\n",
       "      <td>8.40645</td>\n",
       "    </tr>\n",
       "    <tr>\n",
       "      <th>2</th>\n",
       "      <td>8/28/2018 12:01:21 AM8/28/2018 12:16:20 AM8/28...</td>\n",
       "      <td>757.22</td>\n",
       "      <td>-195</td>\n",
       "      <td>12.6258</td>\n",
       "    </tr>\n",
       "    <tr>\n",
       "      <th>3</th>\n",
       "      <td>8/28/2018 12:01:21 AM8/28/2018 12:16:20 AM8/28...</td>\n",
       "      <td>1008.28</td>\n",
       "      <td>-260</td>\n",
       "      <td>16.8516</td>\n",
       "    </tr>\n",
       "    <tr>\n",
       "      <th>4</th>\n",
       "      <td>8/28/2018 12:01:21 AM8/28/2018 12:16:20 AM8/28...</td>\n",
       "      <td>1260.15</td>\n",
       "      <td>-325</td>\n",
       "      <td>21.0645</td>\n",
       "    </tr>\n",
       "    <tr>\n",
       "      <th>5</th>\n",
       "      <td>8/28/2018 12:01:21 AM8/28/2018 12:16:20 AM8/28...</td>\n",
       "      <td>1512.46</td>\n",
       "      <td>-390</td>\n",
       "      <td>25.271</td>\n",
       "    </tr>\n",
       "    <tr>\n",
       "      <th>6</th>\n",
       "      <td>8/28/2018 12:01:21 AM8/28/2018 12:16:20 AM8/28...</td>\n",
       "      <td>1764.21</td>\n",
       "      <td>-455</td>\n",
       "      <td>29.4774</td>\n",
       "    </tr>\n",
       "    <tr>\n",
       "      <th>7</th>\n",
       "      <td>8/28/2018 12:01:21 AM8/28/2018 12:16:20 AM8/28...</td>\n",
       "      <td>2017.16</td>\n",
       "      <td>-520</td>\n",
       "      <td>33.7032</td>\n",
       "    </tr>\n",
       "    <tr>\n",
       "      <th>8</th>\n",
       "      <td>8/28/2018 12:01:21 AM8/28/2018 12:16:20 AM8/28...</td>\n",
       "      <td>2270.26</td>\n",
       "      <td>-585</td>\n",
       "      <td>37.9161</td>\n",
       "    </tr>\n",
       "    <tr>\n",
       "      <th>9</th>\n",
       "      <td>8/28/2018 12:01:21 AM8/28/2018 12:16:20 AM8/28...</td>\n",
       "      <td>2522.79</td>\n",
       "      <td>-650</td>\n",
       "      <td>42.1355</td>\n",
       "    </tr>\n",
       "  </tbody>\n",
       "</table>\n",
       "</div>"
      ],
      "text/plain": [
       "                                      RecordDateTime Voltage (v)  \\\n",
       "0                              8/28/2018 12:01:21 AM      251.78   \n",
       "1         8/28/2018 12:01:21 AM8/28/2018 12:16:20 AM         504   \n",
       "2  8/28/2018 12:01:21 AM8/28/2018 12:16:20 AM8/28...      757.22   \n",
       "3  8/28/2018 12:01:21 AM8/28/2018 12:16:20 AM8/28...     1008.28   \n",
       "4  8/28/2018 12:01:21 AM8/28/2018 12:16:20 AM8/28...     1260.15   \n",
       "5  8/28/2018 12:01:21 AM8/28/2018 12:16:20 AM8/28...     1512.46   \n",
       "6  8/28/2018 12:01:21 AM8/28/2018 12:16:20 AM8/28...     1764.21   \n",
       "7  8/28/2018 12:01:21 AM8/28/2018 12:16:20 AM8/28...     2017.16   \n",
       "8  8/28/2018 12:01:21 AM8/28/2018 12:16:20 AM8/28...     2270.26   \n",
       "9  8/28/2018 12:01:21 AM8/28/2018 12:16:20 AM8/28...     2522.79   \n",
       "\n",
       "  Signal Strength (dBm) Battery Charge (V)  \n",
       "0                   -65                4.2  \n",
       "1                  -130            8.40645  \n",
       "2                  -195            12.6258  \n",
       "3                  -260            16.8516  \n",
       "4                  -325            21.0645  \n",
       "5                  -390             25.271  \n",
       "6                  -455            29.4774  \n",
       "7                  -520            33.7032  \n",
       "8                  -585            37.9161  \n",
       "9                  -650            42.1355  "
      ]
     },
     "execution_count": 26,
     "metadata": {},
     "output_type": "execute_result"
    }
   ],
   "source": [
    "df.cumsum().head(10)"
   ]
  },
  {
   "cell_type": "code",
   "execution_count": 28,
   "metadata": {},
   "outputs": [
    {
     "data": {
      "text/plain": [
       "0    4.200000e+00\n",
       "1    1.766710e+01\n",
       "2    7.454375e+01\n",
       "3    3.150075e+02\n",
       "4    1.327096e+03\n",
       "5    5.582365e+03\n",
       "6    2.348195e+04\n",
       "7    9.923017e+04\n",
       "8    4.180471e+05\n",
       "9    1.763889e+06\n",
       "Name: Battery Charge (V), dtype: float64"
      ]
     },
     "execution_count": 28,
     "metadata": {},
     "output_type": "execute_result"
    }
   ],
   "source": [
    "df['Battery Charge (V)'].cumprod().head(10)"
   ]
  },
  {
   "cell_type": "markdown",
   "metadata": {},
   "source": [
    "## describe"
   ]
  },
  {
   "cell_type": "markdown",
   "metadata": {},
   "source": [
    "### This function gives the mean, std and IQR values. And, function excludes the character columns and given summary about numeric columns. 'include' is the argument which is used to pass necessary information regarding what columns need to be considered for summarizing. Takes the list of values; by default, 'number'. \n",
    "\n",
    "object − Summarizes String columns\n",
    "number − Summarizes Numeric columns\n",
    "all − Summarizes all columns together (Should not pass it as a list value)"
   ]
  },
  {
   "cell_type": "code",
   "execution_count": 31,
   "metadata": {},
   "outputs": [
    {
     "data": {
      "text/html": [
       "<div>\n",
       "<style scoped>\n",
       "    .dataframe tbody tr th:only-of-type {\n",
       "        vertical-align: middle;\n",
       "    }\n",
       "\n",
       "    .dataframe tbody tr th {\n",
       "        vertical-align: top;\n",
       "    }\n",
       "\n",
       "    .dataframe thead th {\n",
       "        text-align: right;\n",
       "    }\n",
       "</style>\n",
       "<table border=\"1\" class=\"dataframe\">\n",
       "  <thead>\n",
       "    <tr style=\"text-align: right;\">\n",
       "      <th></th>\n",
       "      <th>RecordDateTime</th>\n",
       "    </tr>\n",
       "  </thead>\n",
       "  <tbody>\n",
       "    <tr>\n",
       "      <th>count</th>\n",
       "      <td>87</td>\n",
       "    </tr>\n",
       "    <tr>\n",
       "      <th>unique</th>\n",
       "      <td>87</td>\n",
       "    </tr>\n",
       "    <tr>\n",
       "      <th>top</th>\n",
       "      <td>8/28/2018 2:31:20 PM</td>\n",
       "    </tr>\n",
       "    <tr>\n",
       "      <th>freq</th>\n",
       "      <td>1</td>\n",
       "    </tr>\n",
       "  </tbody>\n",
       "</table>\n",
       "</div>"
      ],
      "text/plain": [
       "              RecordDateTime\n",
       "count                     87\n",
       "unique                    87\n",
       "top     8/28/2018 2:31:20 PM\n",
       "freq                       1"
      ]
     },
     "execution_count": 31,
     "metadata": {},
     "output_type": "execute_result"
    }
   ],
   "source": [
    "df.describe(include=['object'])"
   ]
  },
  {
   "cell_type": "code",
   "execution_count": 32,
   "metadata": {},
   "outputs": [
    {
     "data": {
      "text/html": [
       "<div>\n",
       "<style scoped>\n",
       "    .dataframe tbody tr th:only-of-type {\n",
       "        vertical-align: middle;\n",
       "    }\n",
       "\n",
       "    .dataframe tbody tr th {\n",
       "        vertical-align: top;\n",
       "    }\n",
       "\n",
       "    .dataframe thead th {\n",
       "        text-align: right;\n",
       "    }\n",
       "</style>\n",
       "<table border=\"1\" class=\"dataframe\">\n",
       "  <thead>\n",
       "    <tr style=\"text-align: right;\">\n",
       "      <th></th>\n",
       "      <th>RecordDateTime</th>\n",
       "      <th>Voltage (v)</th>\n",
       "      <th>Signal Strength (dBm)</th>\n",
       "      <th>Battery Charge (V)</th>\n",
       "    </tr>\n",
       "  </thead>\n",
       "  <tbody>\n",
       "    <tr>\n",
       "      <th>count</th>\n",
       "      <td>87</td>\n",
       "      <td>87.000000</td>\n",
       "      <td>87.000000</td>\n",
       "      <td>87.000000</td>\n",
       "    </tr>\n",
       "    <tr>\n",
       "      <th>unique</th>\n",
       "      <td>87</td>\n",
       "      <td>NaN</td>\n",
       "      <td>NaN</td>\n",
       "      <td>NaN</td>\n",
       "    </tr>\n",
       "    <tr>\n",
       "      <th>top</th>\n",
       "      <td>8/28/2018 2:31:20 PM</td>\n",
       "      <td>NaN</td>\n",
       "      <td>NaN</td>\n",
       "      <td>NaN</td>\n",
       "    </tr>\n",
       "    <tr>\n",
       "      <th>freq</th>\n",
       "      <td>1</td>\n",
       "      <td>NaN</td>\n",
       "      <td>NaN</td>\n",
       "      <td>NaN</td>\n",
       "    </tr>\n",
       "    <tr>\n",
       "      <th>mean</th>\n",
       "      <td>NaN</td>\n",
       "      <td>117.633103</td>\n",
       "      <td>-67.091954</td>\n",
       "      <td>4.045606</td>\n",
       "    </tr>\n",
       "    <tr>\n",
       "      <th>std</th>\n",
       "      <td>NaN</td>\n",
       "      <td>125.340096</td>\n",
       "      <td>2.604255</td>\n",
       "      <td>0.180580</td>\n",
       "    </tr>\n",
       "    <tr>\n",
       "      <th>min</th>\n",
       "      <td>NaN</td>\n",
       "      <td>0.000000</td>\n",
       "      <td>-79.000000</td>\n",
       "      <td>3.735484</td>\n",
       "    </tr>\n",
       "    <tr>\n",
       "      <th>25%</th>\n",
       "      <td>NaN</td>\n",
       "      <td>0.000000</td>\n",
       "      <td>-69.000000</td>\n",
       "      <td>3.870968</td>\n",
       "    </tr>\n",
       "    <tr>\n",
       "      <th>50%</th>\n",
       "      <td>NaN</td>\n",
       "      <td>0.000000</td>\n",
       "      <td>-67.000000</td>\n",
       "      <td>4.135484</td>\n",
       "    </tr>\n",
       "    <tr>\n",
       "      <th>75%</th>\n",
       "      <td>NaN</td>\n",
       "      <td>251.045000</td>\n",
       "      <td>-65.000000</td>\n",
       "      <td>4.200000</td>\n",
       "    </tr>\n",
       "    <tr>\n",
       "      <th>max</th>\n",
       "      <td>NaN</td>\n",
       "      <td>253.260000</td>\n",
       "      <td>-61.000000</td>\n",
       "      <td>4.232258</td>\n",
       "    </tr>\n",
       "  </tbody>\n",
       "</table>\n",
       "</div>"
      ],
      "text/plain": [
       "              RecordDateTime  Voltage (v)  Signal Strength (dBm)  \\\n",
       "count                     87    87.000000              87.000000   \n",
       "unique                    87          NaN                    NaN   \n",
       "top     8/28/2018 2:31:20 PM          NaN                    NaN   \n",
       "freq                       1          NaN                    NaN   \n",
       "mean                     NaN   117.633103             -67.091954   \n",
       "std                      NaN   125.340096               2.604255   \n",
       "min                      NaN     0.000000             -79.000000   \n",
       "25%                      NaN     0.000000             -69.000000   \n",
       "50%                      NaN     0.000000             -67.000000   \n",
       "75%                      NaN   251.045000             -65.000000   \n",
       "max                      NaN   253.260000             -61.000000   \n",
       "\n",
       "        Battery Charge (V)  \n",
       "count            87.000000  \n",
       "unique                 NaN  \n",
       "top                    NaN  \n",
       "freq                   NaN  \n",
       "mean              4.045606  \n",
       "std               0.180580  \n",
       "min               3.735484  \n",
       "25%               3.870968  \n",
       "50%               4.135484  \n",
       "75%               4.200000  \n",
       "max               4.232258  "
      ]
     },
     "execution_count": 32,
     "metadata": {},
     "output_type": "execute_result"
    }
   ],
   "source": [
    "df.describe(include='all')"
   ]
  },
  {
   "cell_type": "code",
   "execution_count": 33,
   "metadata": {},
   "outputs": [
    {
     "data": {
      "text/html": [
       "<div>\n",
       "<style scoped>\n",
       "    .dataframe tbody tr th:only-of-type {\n",
       "        vertical-align: middle;\n",
       "    }\n",
       "\n",
       "    .dataframe tbody tr th {\n",
       "        vertical-align: top;\n",
       "    }\n",
       "\n",
       "    .dataframe thead th {\n",
       "        text-align: right;\n",
       "    }\n",
       "</style>\n",
       "<table border=\"1\" class=\"dataframe\">\n",
       "  <thead>\n",
       "    <tr style=\"text-align: right;\">\n",
       "      <th></th>\n",
       "      <th>Voltage (v)</th>\n",
       "      <th>Signal Strength (dBm)</th>\n",
       "      <th>Battery Charge (V)</th>\n",
       "    </tr>\n",
       "  </thead>\n",
       "  <tbody>\n",
       "    <tr>\n",
       "      <th>count</th>\n",
       "      <td>87.000000</td>\n",
       "      <td>87.000000</td>\n",
       "      <td>87.000000</td>\n",
       "    </tr>\n",
       "    <tr>\n",
       "      <th>mean</th>\n",
       "      <td>117.633103</td>\n",
       "      <td>-67.091954</td>\n",
       "      <td>4.045606</td>\n",
       "    </tr>\n",
       "    <tr>\n",
       "      <th>std</th>\n",
       "      <td>125.340096</td>\n",
       "      <td>2.604255</td>\n",
       "      <td>0.180580</td>\n",
       "    </tr>\n",
       "    <tr>\n",
       "      <th>min</th>\n",
       "      <td>0.000000</td>\n",
       "      <td>-79.000000</td>\n",
       "      <td>3.735484</td>\n",
       "    </tr>\n",
       "    <tr>\n",
       "      <th>25%</th>\n",
       "      <td>0.000000</td>\n",
       "      <td>-69.000000</td>\n",
       "      <td>3.870968</td>\n",
       "    </tr>\n",
       "    <tr>\n",
       "      <th>50%</th>\n",
       "      <td>0.000000</td>\n",
       "      <td>-67.000000</td>\n",
       "      <td>4.135484</td>\n",
       "    </tr>\n",
       "    <tr>\n",
       "      <th>75%</th>\n",
       "      <td>251.045000</td>\n",
       "      <td>-65.000000</td>\n",
       "      <td>4.200000</td>\n",
       "    </tr>\n",
       "    <tr>\n",
       "      <th>max</th>\n",
       "      <td>253.260000</td>\n",
       "      <td>-61.000000</td>\n",
       "      <td>4.232258</td>\n",
       "    </tr>\n",
       "  </tbody>\n",
       "</table>\n",
       "</div>"
      ],
      "text/plain": [
       "       Voltage (v)  Signal Strength (dBm)  Battery Charge (V)\n",
       "count    87.000000              87.000000           87.000000\n",
       "mean    117.633103             -67.091954            4.045606\n",
       "std     125.340096               2.604255            0.180580\n",
       "min       0.000000             -79.000000            3.735484\n",
       "25%       0.000000             -69.000000            3.870968\n",
       "50%       0.000000             -67.000000            4.135484\n",
       "75%     251.045000             -65.000000            4.200000\n",
       "max     253.260000             -61.000000            4.232258"
      ]
     },
     "execution_count": 33,
     "metadata": {},
     "output_type": "execute_result"
    }
   ],
   "source": [
    "df.describe()"
   ]
  },
  {
   "cell_type": "code",
   "execution_count": null,
   "metadata": {},
   "outputs": [],
   "source": []
  }
 ],
 "metadata": {
  "kernelspec": {
   "display_name": "Python 3",
   "language": "python",
   "name": "python3"
  },
  "language_info": {
   "codemirror_mode": {
    "name": "ipython",
    "version": 3
   },
   "file_extension": ".py",
   "mimetype": "text/x-python",
   "name": "python",
   "nbconvert_exporter": "python",
   "pygments_lexer": "ipython3",
   "version": "3.6.5"
  }
 },
 "nbformat": 4,
 "nbformat_minor": 2
}
